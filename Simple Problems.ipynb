{
 "cells": [
  {
   "cell_type": "markdown",
   "metadata": {},
   "source": [
    "# Simple Problems\n",
    "\n",
    "1. Calculate the Average of Numbers in a Given List\n",
    "2. "
   ]
  },
  {
   "cell_type": "code",
   "execution_count": 15,
   "metadata": {
    "ExecuteTime": {
     "end_time": "2021-08-14T13:52:43.719166Z",
     "start_time": "2021-08-14T13:52:43.705232Z"
    }
   },
   "outputs": [],
   "source": [
    "# Function to Accept Integer/Float Input\n",
    "def Accept_Numbers():\n",
    "    numbers_input = []\n",
    "    while True:\n",
    "        choice = input('Do you want to add Number (y/n): ')\n",
    "            \n",
    "        if choice == 'y':\n",
    "            try:\n",
    "                num = float(input('Enter Number: '))\n",
    "                numbers_input.append(num)\n",
    "            except ValueError as ve:\n",
    "                print('Please Enter a Number')\n",
    "        elif choice == 'n':\n",
    "            break\n",
    "        else:\n",
    "            print('Please enter valid choice (y/n)')\n",
    "    \n",
    "    return numbers_input"
   ]
  },
  {
   "cell_type": "markdown",
   "metadata": {},
   "source": [
    "## Calculate the Average of Numbers in a Given List"
   ]
  },
  {
   "cell_type": "code",
   "execution_count": 17,
   "metadata": {
    "ExecuteTime": {
     "end_time": "2021-08-14T13:59:54.236390Z",
     "start_time": "2021-08-14T13:59:38.841280Z"
    }
   },
   "outputs": [
    {
     "name": "stdout",
     "output_type": "stream",
     "text": [
      "Do you want to add Number (y/n): y\n",
      "Enter Number: 12\n",
      "Do you want to add Number (y/n): y\n",
      "Enter Number: 12\n",
      "Do you want to add Number (y/n): n\n",
      "Average is : 12.0\n"
     ]
    }
   ],
   "source": [
    "numbers = Accept_Numbers()\n",
    "\n",
    "num_cnt = 0\n",
    "num_sum = 0\n",
    "average = 0\n",
    "\n",
    "for num in numbers:\n",
    "    num_sum+=num\n",
    "    num_cnt+=1\n",
    "\n",
    "average = num_sum/num_cnt\n",
    "print(f'Average is : {average}')"
   ]
  },
  {
   "cell_type": "code",
   "execution_count": null,
   "metadata": {},
   "outputs": [],
   "source": []
  }
 ],
 "metadata": {
  "kernelspec": {
   "display_name": "Python 3",
   "language": "python",
   "name": "python3"
  },
  "language_info": {
   "codemirror_mode": {
    "name": "ipython",
    "version": 3
   },
   "file_extension": ".py",
   "mimetype": "text/x-python",
   "name": "python",
   "nbconvert_exporter": "python",
   "pygments_lexer": "ipython3",
   "version": "3.8.3"
  },
  "toc": {
   "base_numbering": 1,
   "nav_menu": {},
   "number_sections": true,
   "sideBar": true,
   "skip_h1_title": false,
   "title_cell": "Table of Contents",
   "title_sidebar": "Contents",
   "toc_cell": false,
   "toc_position": {},
   "toc_section_display": true,
   "toc_window_display": false
  }
 },
 "nbformat": 4,
 "nbformat_minor": 4
}
